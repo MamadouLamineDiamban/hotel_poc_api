{
 "cells": [
  {
   "cell_type": "code",
   "execution_count": 1,
   "id": "d72815e8",
   "metadata": {},
   "outputs": [
    {
     "data": {
      "text/plain": [
       "True"
      ]
     },
     "execution_count": 1,
     "metadata": {},
     "output_type": "execute_result"
    }
   ],
   "source": [
    "from __future__ import annotations\n",
    "import os\n",
    "from datetime import date, timedelta\n",
    "from typing import List, Dict, Any\n",
    "import httpx\n",
    "import pandas as pd\n",
    "import json\n",
    "import unicodedata\n",
    "\n",
    "from dotenv import load_dotenv\n",
    "\n",
    "load_dotenv()"
   ]
  },
  {
   "cell_type": "code",
   "execution_count": null,
   "id": "857f316b",
   "metadata": {},
   "outputs": [],
   "source": [
    "# country_labels.py\n",
    "COUNTRY_LABELS = {\n",
    "    \"AE\": {\"en\": \"United Arab Emirates\", \"fr\": \"Émirats arabes unis\"},\n",
    "    \"AR\": {\"en\": \"Argentina\",            \"fr\": \"Argentine\"},\n",
    "    \"AS\": {\"en\": \"Asia (regional)\",      \"fr\": \"Asie (régional)\"},\n",
    "    \"AT\": {\"en\": \"Austria\",              \"fr\": \"Autriche\"},\n",
    "    \"AU\": {\"en\": \"Australia\",            \"fr\": \"Australie\"},\n",
    "    \"BE\": {\"en\": \"Belgium\",              \"fr\": \"Belgique\"},\n",
    "    \"BR\": {\"en\": \"Brazil\",               \"fr\": \"Brésil\"},\n",
    "    \"CA\": {\"en\": \"Canada\",               \"fr\": \"Canada\"},\n",
    "    \"CH\": {\"en\": \"Switzerland\",          \"fr\": \"Suisse\"},\n",
    "    \"CL\": {\"en\": \"Chile\",                \"fr\": \"Chili\"},\n",
    "    \"CN\": {\"en\": \"China\",                \"fr\": \"Chine\"},\n",
    "    \"CO\": {\"en\": \"Colombia\",             \"fr\": \"Colombie\"},\n",
    "    \"DE\": {\"en\": \"Germany\",              \"fr\": \"Allemagne\"},\n",
    "    \"DK\": {\"en\": \"Denmark\",              \"fr\": \"Danemark\"},\n",
    "    \"ES\": {\"en\": \"Spain\",                \"fr\": \"Espagne\"},\n",
    "    \"FI\": {\"en\": \"Finland\",              \"fr\": \"Finlande\"},\n",
    "    \"FR\": {\"en\": \"France\",               \"fr\": \"France\"},\n",
    "    \"GB\": {\"en\": \"United Kingdom\",       \"fr\": \"Royaume-Uni\"},\n",
    "    \"GR\": {\"en\": \"Greece\",               \"fr\": \"Grèce\"},\n",
    "    \"HK\": {\"en\": \"Hong Kong\",            \"fr\": \"Hong Kong\"},\n",
    "    \"HU\": {\"en\": \"Hungary\",              \"fr\": \"Hongrie\"},\n",
    "    \"ID\": {\"en\": \"Indonesia\",            \"fr\": \"Indonésie\"},\n",
    "    \"IE\": {\"en\": \"Ireland\",              \"fr\": \"Irlande\"},\n",
    "    \"IN\": {\"en\": \"India\",                \"fr\": \"Inde\"},\n",
    "    \"IS\": {\"en\": \"Iceland\",              \"fr\": \"Islande\"},\n",
    "    \"IT\": {\"en\": \"Italy\",                \"fr\": \"Italie\"},\n",
    "    \"JP\": {\"en\": \"Japan\",                \"fr\": \"Japon\"},\n",
    "    \"KR\": {\"en\": \"South Korea\",          \"fr\": \"Corée du Sud\"},\n",
    "    \"LATAM\": {\"en\": \"Latin America (regional)\", \"fr\": \"Amérique latine (régional)\"},\n",
    "    \"MX\": {\"en\": \"Mexico\",               \"fr\": \"Mexique\"},\n",
    "    \"MY\": {\"en\": \"Malaysia\",             \"fr\": \"Malaisie\"},\n",
    "    \"NL\": {\"en\": \"Netherlands\",          \"fr\": \"Pays-Bas\"},\n",
    "    \"NO\": {\"en\": \"Norway\",               \"fr\": \"Norvège\"},\n",
    "    \"NZ\": {\"en\": \"New Zealand\",          \"fr\": \"Nouvelle-Zélande\"},\n",
    "    \"PE\": {\"en\": \"Peru\",                 \"fr\": \"Pérou\"},\n",
    "    \"PH\": {\"en\": \"Philippines\",          \"fr\": \"Philippines\"},\n",
    "    \"PT\": {\"en\": \"Portugal\",             \"fr\": \"Portugal\"},\n",
    "    \"SE\": {\"en\": \"Sweden\",               \"fr\": \"Suède\"},\n",
    "    \"SG\": {\"en\": \"Singapore\",            \"fr\": \"Singapour\"},\n",
    "    \"TH\": {\"en\": \"Thailand\",             \"fr\": \"Thaïlande\"},\n",
    "    \"TR\": {\"en\": \"Türkiye\",              \"fr\": \"Turquie\"},\n",
    "    \"TW\": {\"en\": \"Taiwan\",               \"fr\": \"Taïwan\"},\n",
    "    \"US\": {\"en\": \"United States\",        \"fr\": \"États-Unis\"},\n",
    "    \"VN\": {\"en\": \"Vietnam\",              \"fr\": \"Viêt Nam\"},\n",
    "    \"XE\": {\"en\": \"Global / Other\",       \"fr\": \"Global / Autres\"},\n",
    "    \"ZA\": {\"en\": \"South Africa\",         \"fr\": \"Afrique du Sud\"},\n",
    "}\n",
    "\n",
    "# Alias utiles\n",
    "ALIASES = {\n",
    "    \"usa\": \"US\",\n",
    "    \"etats unis\": \"US\",\n",
    "    \"royaume uni\": \"GB\",\n",
    "    \"uae\": \"AE\",\n",
    "    \"emirats\": \"AE\",\n",
    "}"
   ]
  },
  {
   "cell_type": "code",
   "execution_count": 3,
   "id": "51d53c80",
   "metadata": {},
   "outputs": [],
   "source": [
    "def _normalize(country_or_name: str) -> str:\n",
    "    \"\"\"\n",
    "    Accepte code, nom FR ou nom EN. Retourne toujours un code pays ISO (FR, US, etc.).\n",
    "    Si le pays n'est pas reconnu, lève ValueError avec un message explicite.\n",
    "    \"\"\"\n",
    "    if not country_or_name:\n",
    "        raise ValueError(\"Le paramètre est vide : impossible de résoudre le pays.\")\n",
    "\n",
    "    s = country_or_name.strip().upper()\n",
    "    if s in COUNTRY_LABELS:  # cas simple: déjà un code\n",
    "        return s\n",
    "\n",
    "    # Normaliser accents/majuscules\n",
    "    s_norm = unicodedata.normalize(\"NFKD\", country_or_name.strip().lower())\n",
    "    s_norm = \"\".join(ch for ch in s_norm if not unicodedata.combining(ch))\n",
    "\n",
    "    # Alias connus\n",
    "    if s_norm in ALIASES:\n",
    "        return ALIASES[s_norm]\n",
    "\n",
    "    # Noms FR/EN\n",
    "    for code, labels in COUNTRY_LABELS.items():\n",
    "        for name in labels.values():\n",
    "            name_norm = \"\".join(\n",
    "                ch for ch in unicodedata.normalize(\"NFKD\", name.lower())\n",
    "                if not unicodedata.combining(ch)\n",
    "            )\n",
    "            if s_norm == name_norm:\n",
    "                return code\n",
    "\n",
    "    # Si rien trouvé\n",
    "    raise ValueError(\n",
    "        f\"Impossible de résoudre '{country_or_name}' en code pays. \"\n",
    "        f\"Essayez un code ISO valide (ex: 'FR', 'US') ou un nom reconnu.\"\n",
    "    )\n"
   ]
  },
  {
   "cell_type": "code",
   "execution_count": 13,
   "id": "16432fc6",
   "metadata": {},
   "outputs": [],
   "source": [
    "def normalize_locales(locales: list[str], country_code: str) -> list[str]:\n",
    "    # mapping minimal pour les locales “nues”\n",
    "    fallback = {\n",
    "        \"US\": {\"en\": \"en_US\", \"es\": \"es_US\"},\n",
    "        \"FR\": {\"fr\": \"fr_FR\"},\n",
    "        \"GB\": {\"en\": \"en_GB\"},\n",
    "    }\n",
    "    out = []\n",
    "    for loc in locales:\n",
    "        if \"_\" in loc:\n",
    "            out.append(loc)\n",
    "        else:\n",
    "            out.append(fallback.get(country_code, {}).get(loc, loc))\n",
    "    # dédoublonner proprement\n",
    "    return sorted({l for l in out if l})\n"
   ]
  },
  {
   "cell_type": "code",
   "execution_count": 16,
   "id": "484e0009",
   "metadata": {},
   "outputs": [],
   "source": [
    "RAPIDAPI_KEY = os.getenv(\"RAPIDAPI_KEY\")\n",
    "\n",
    "HEADERS = {\n",
    "    \"X-RapidAPI-Key\": RAPIDAPI_KEY,\n",
    "    \"X-RapidAPI-Host\": \"hotels-com-provider.p.rapidapi.com\"\n",
    "}\n",
    "\n",
    "def get_locales(country: str) -> list[str]:\n",
    "    \"\"\"\n",
    "    Résout 'country' (nom ou code) en code ISO via _normalize,\n",
    "    appelle l'API /v2/domains, et retourne la liste des locales supportées.\n",
    "    \"\"\"\n",
    "    code = _normalize(country)  # garantit un code ISO\n",
    "    \n",
    "    # --- appel API ---\n",
    "    url = \"https://hotels-com-provider.p.rapidapi.com/v2/domains\"\n",
    "    r = requests.get(url, headers=HEADERS, timeout=20)\n",
    "    r.raise_for_status()\n",
    "    data = r.json()\n",
    "    \n",
    "    # transformer en DataFrame (1 ligne, colonnes multiples)\n",
    "    df_domains = pd.json_normalize(data)\n",
    "    \n",
    "    # --- extraire les locales ---\n",
    "    prefix = f\"{code}.supported_locales.\"\n",
    "    locales = []\n",
    "    for col in df_domains.columns:\n",
    "        if col.startswith(prefix):\n",
    "            if col.endswith(\".key\"):\n",
    "                locales.append(df_domains.at[0, col])\n",
    "            elif col.endswith(\".language_code\"):\n",
    "                val = df_domains.at[0, col]\n",
    "                if val and isinstance(val, str):\n",
    "                    locales.append(val.replace(\"-\", \"_\"))\n",
    "    return sorted(set(locales))\n"
   ]
  },
  {
   "cell_type": "code",
   "execution_count": 17,
   "id": "a394bdb7",
   "metadata": {},
   "outputs": [],
   "source": [
    "def get_first_locale(country: str) -> str | None:\n",
    "    \"\"\"\n",
    "    Récupère la première locale dispo pour un pays donné.\n",
    "    - 'country' peut être code (FR, US...) ou nom (France, United States...).\n",
    "    Retourne une locale (ex: 'fr_FR') ou None si rien trouvé.\n",
    "    \"\"\"\n",
    "    locales = get_locales(country)  # ta fonction existante qui va taper /v2/domains\n",
    "    return locales[0] if locales else None\n"
   ]
  },
  {
   "cell_type": "code",
   "execution_count": 19,
   "id": "085e69da",
   "metadata": {},
   "outputs": [
    {
     "data": {
      "text/plain": [
       "'fr_FR'"
      ]
     },
     "execution_count": 19,
     "metadata": {},
     "output_type": "execute_result"
    }
   ],
   "source": [
    "get_first_locale(\"FR\")"
   ]
  },
  {
   "cell_type": "code",
   "execution_count": null,
   "id": "5f347d68",
   "metadata": {},
   "outputs": [],
   "source": [
    "KEY = os.getenv(\"RAPIDAPI_KEY\")\n",
    "H = {\"X-RapidAPI-Key\": KEY, \"X-RapidAPI-Host\": \"hotels-com-provider.p.rapidapi.com\"}\n",
    "\n",
    "def get_city_gaia_id(city: str, country: str = \"France\", locale: str = \"fr_FR\", domain: str = \"FR\") -> str:\n",
    "    \"\"\"\n",
    "    Récupère le gaiaId d'une ville donnée via /v2/regions.\n",
    "    - city: nom de la ville (ex: \"Nice\", \"La Mecque\")\n",
    "    - country: pays (ex: \"France\", \"Arabie Saoudite\")\n",
    "    - locale: code de langue (ex: \"fr_FR\", \"ar_SA\")\n",
    "    - domain: code pays du site Hotels.com (liste fournie par /v2/domains, ex: \"FR\", \"SA\", \"US\")\n",
    "    \"\"\"\n",
    "    r = requests.get(\n",
    "        \"https://hotels-com-provider.p.rapidapi.com/v2/regions\",\n",
    "        headers=H,\n",
    "        params={\"query\": city, \"domain\": domain, \"locale\": locale},\n",
    "        timeout=20\n",
    "    )\n",
    "    r.raise_for_status()\n",
    "    payload = r.json()\n",
    "    items = payload[\"data\"] if isinstance(payload, dict) and \"data\" in payload else payload\n",
    "    df = pd.json_normalize(items)\n",
    "\n",
    "    # Filtre sur type CITY et pays demandé\n",
    "    cities = df[df[\"type\"].eq(\"CITY\")]\n",
    "    sel = cities[cities[\"regionNames.fullName\"].str.contains(country, case=False, na=False)]\n",
    "\n",
    "    # Prioriser la ville exacte (nom commence par city)\n",
    "    sel = sel[sel[\"regionNames.fullName\"].str.startswith(city, na=False)]\n",
    "\n",
    "    if sel.empty:\n",
    "        raise ValueError(f\"Aucun gaiaId trouvé pour {city}, {country}\")\n",
    "\n",
    "    gaia_id = str(sel.iloc[0][\"gaiaId\"])\n",
    "    return gaia_id\n",
    "\n",
    "# Exemple d'utilisation\n",
    "if __name__ == \"__main__\":\n",
    "    print(\"Nice:\", get_city_gaia_id(\"Nice\", \"France\", \"fr_FR\", \"FR\"))\n"
   ]
  },
  {
   "cell_type": "code",
   "execution_count": 23,
   "id": "05338be3",
   "metadata": {},
   "outputs": [],
   "source": [
    "import requests, pandas as pd, unicodedata\n",
    "\n",
    "def _norm_txt(s: str) -> str:\n",
    "    s = unicodedata.normalize(\"NFKD\", str(s).strip().lower())\n",
    "    return \"\".join(ch for ch in s if not unicodedata.combining(ch))\n",
    "\n",
    "def get_city_gaia_id(\n",
    "    city: str,\n",
    "    country: str = \"France\",\n",
    "    locale: str | None = None,      # si None -> auto via get_locales(country)\n",
    "    domain: str | None = None       # si None -> code pays (résolu par _normalize)\n",
    ") -> tuple[str, str, str]:\n",
    "    \"\"\"\n",
    "    Récupère le gaiaId d'une ville via /v2/regions en s'appuyant sur:\n",
    "      - _normalize(country) -> code ISO (FR, US, ...)\n",
    "      - get_locales(country) -> locales disponibles (via /v2/domains)\n",
    "    Retourne (gaiaId, fullName, locale_effective).\n",
    "    \"\"\"\n",
    "    code = _normalize(country)  # ex: \"FR\"\n",
    "    # locale auto si non fournie\n",
    "    if not locale:\n",
    "        locs = get_locales(code)\n",
    "        locale = locs[0] if locs else \"en_US\"\n",
    "    # domain auto si non fourni (l’API attend le code pays ici)\n",
    "    if not domain:\n",
    "        domain = code\n",
    "\n",
    "    # --- appel /v2/regions ---\n",
    "    r = requests.get(\n",
    "        \"https://hotels-com-provider.p.rapidapi.com/v2/regions\",\n",
    "        headers=H,\n",
    "        params={\"query\": city, \"domain\": domain, \"locale\": locale},\n",
    "        timeout=20\n",
    "    )\n",
    "    if r.status_code >= 400:\n",
    "        raise requests.HTTPError(\n",
    "            f\"/v2/regions HTTP {r.status_code} — params(city={city}, country={country}, code={code}, \"\n",
    "            f\"domain={domain}, locale={locale}) — body: {r.text[:300]}\"\n",
    "        )\n",
    "    payload = r.json()\n",
    "    items = payload[\"data\"] if isinstance(payload, dict) and \"data\" in payload else payload\n",
    "    if not isinstance(items, list) or not items:\n",
    "        raise ValueError(f\"Aucune donnée renvoyée pour '{city}' ({country}).\")\n",
    "\n",
    "    df = pd.json_normalize(items)\n",
    "    if \"type\" not in df.columns:\n",
    "        raise ValueError(\"Réponse inattendue: champ 'type' manquant.\")\n",
    "    df = df[df[\"type\"].eq(\"CITY\")].copy()\n",
    "    if df.empty:\n",
    "        raise ValueError(f\"Aucune ville trouvée pour '{city}' ({country}).\")\n",
    "\n",
    "    if \"regionNames.fullName\" not in df.columns:\n",
    "        df[\"regionNames.fullName\"] = \"\"\n",
    "    if \"gaiaId\" not in df.columns:\n",
    "        raise ValueError(\"Réponse inattendue: champ 'gaiaId' manquant.\")\n",
    "\n",
    "    # --- scoring robuste (ville + pays normalisés) ---\n",
    "    city_n = _norm_txt(city)\n",
    "    country_n = _norm_txt(country)\n",
    "\n",
    "    def score(fullname: str) -> int:\n",
    "        fn = _norm_txt(fullname)\n",
    "        if not fn: return 0\n",
    "        exact_city = int(fn.startswith(city_n + \",\") or fn.split(\",\")[0] == city_n)\n",
    "        starts_city = int(fn.startswith(city_n))\n",
    "        contains_city = int(city_n in fn)\n",
    "        contains_country = int(country_n in fn)\n",
    "        return (3*exact_city) + (2*starts_city) + contains_city + (2*contains_country)\n",
    "\n",
    "    df[\"__score\"] = df[\"regionNames.fullName\"].fillna(\"\").apply(score)\n",
    "    if \"index\" in df.columns:\n",
    "        # ordre de pertinence renvoyé par l’API, si dispo\n",
    "        def _safe_int(x):\n",
    "            try: return int(x)\n",
    "            except: return 10**9\n",
    "        df[\"__idx\"] = df[\"index\"].apply(_safe_int)\n",
    "    else:\n",
    "        df[\"__idx\"] = range(len(df))\n",
    "\n",
    "    df = df.sort_values(by=[\"__score\", \"__idx\"], ascending=[False, True])\n",
    "    if df.iloc[0][\"__score\"] == 0:\n",
    "        raise ValueError(\n",
    "            f\"Aucun match convaincant pour ville='{city}' pays='{country}' \"\n",
    "            f\"(code={code}, domain={domain}, locale={locale}). \"\n",
    "            f\"Candidats: {df['regionNames.fullName'].head(5).to_list()}\"\n",
    "        )\n",
    "\n",
    "    gaia_id = str(df.iloc[0][\"gaiaId\"])\n",
    "    full_name = str(df.iloc[0][\"regionNames.fullName\"])\n",
    "    return gaia_id, full_name, locale\n"
   ]
  },
  {
   "cell_type": "code",
   "execution_count": 32,
   "id": "d93ae573",
   "metadata": {},
   "outputs": [
    {
     "data": {
      "text/plain": [
       "('2302', 'Milan, Lombardie, Italie', 'fr_FR')"
      ]
     },
     "execution_count": 32,
     "metadata": {},
     "output_type": "execute_result"
    }
   ],
   "source": [
    "get_city_gaia_id(\"Milan\")\n"
   ]
  },
  {
   "cell_type": "markdown",
   "id": "17c2d4d8",
   "metadata": {},
   "source": [
    "# Récupère tous les hotels"
   ]
  },
  {
   "cell_type": "code",
   "execution_count": 45,
   "id": "8a5cdd43",
   "metadata": {},
   "outputs": [],
   "source": [
    "def hotels_in_city_once_v2(gaia_id, domain, locale, checkin, checkout,\n",
    "                           adults=2, page_number=1, timeout=20,\n",
    "                           sort_order=\"PRICE_LOW_TO_HIGH\"):\n",
    "    url = \"https://hotels-com-provider.p.rapidapi.com/v2/hotels/search\"\n",
    "    params = {\n",
    "        \"region_id\": gaia_id,\n",
    "        \"domain\": domain,\n",
    "        \"locale\": locale,\n",
    "        \"checkin_date\": checkin,\n",
    "        \"checkout_date\": checkout,\n",
    "        \"adults_number\": str(adults),\n",
    "        \"page_number\": str(page_number),\n",
    "        \"currency\": \"EUR\",\n",
    "        \"sort_order\": sort_order,\n",
    "    }\n",
    "    r = requests.get(url, headers=H, params=params, timeout=timeout)\n",
    "    print(\"STATUS:\", r.status_code)\n",
    "    print(\"BODY:\", r.text[:200])   # debug court\n",
    "    r.raise_for_status()\n",
    "    return r.json()\n"
   ]
  },
  {
   "cell_type": "code",
   "execution_count": 46,
   "id": "5b3d6c06",
   "metadata": {},
   "outputs": [
    {
     "name": "stdout",
     "output_type": "stream",
     "text": [
      "STATUS: 200\n",
      "BODY: {\"__typename\":\"PropertySearchResults\",\"filterMetadata\":{\"__typename\":\"PropertyFilterMetadata\",\"amenities\":[{\"__typename\":\"PropertyAmenityValue\",\"id\":7},{\"__typename\":\"PropertyAmenityValue\",\"id\":83},{\"\n"
     ]
    },
    {
     "ename": "AttributeError",
     "evalue": "'dict' object has no attribute 'head'",
     "output_type": "error",
     "traceback": [
      "\u001b[1;31m---------------------------------------------------------------------------\u001b[0m",
      "\u001b[1;31mAttributeError\u001b[0m                            Traceback (most recent call last)",
      "Cell \u001b[1;32mIn[46], line 12\u001b[0m\n\u001b[0;32m      1\u001b[0m gaia_id, full_name, loc \u001b[38;5;241m=\u001b[39m get_city_gaia_id(\u001b[38;5;124m\"\u001b[39m\u001b[38;5;124mNice\u001b[39m\u001b[38;5;124m\"\u001b[39m, \u001b[38;5;124m\"\u001b[39m\u001b[38;5;124mFrance\u001b[39m\u001b[38;5;124m\"\u001b[39m)  \u001b[38;5;66;03m# locale choisie auto\u001b[39;00m\n\u001b[0;32m      2\u001b[0m df_hotels \u001b[38;5;241m=\u001b[39m hotels_in_city_once_v2(\n\u001b[0;32m      3\u001b[0m     gaia_id\u001b[38;5;241m=\u001b[39mgaia_id,\n\u001b[0;32m      4\u001b[0m     domain\u001b[38;5;241m=\u001b[39m\u001b[38;5;124m\"\u001b[39m\u001b[38;5;124mFR\u001b[39m\u001b[38;5;124m\"\u001b[39m,\n\u001b[1;32m   (...)\u001b[0m\n\u001b[0;32m      9\u001b[0m     page_number\u001b[38;5;241m=\u001b[39m\u001b[38;5;241m1\u001b[39m,\n\u001b[0;32m     10\u001b[0m )\n\u001b[1;32m---> 12\u001b[0m \u001b[38;5;28mprint\u001b[39m(\u001b[43mdf_hotels\u001b[49m\u001b[38;5;241;43m.\u001b[39;49m\u001b[43mhead\u001b[49m(\u001b[38;5;241m15\u001b[39m))\n\u001b[0;32m     13\u001b[0m \u001b[38;5;28mprint\u001b[39m(\u001b[38;5;124m\"\u001b[39m\u001b[38;5;124mHôtels (page 1):\u001b[39m\u001b[38;5;124m\"\u001b[39m, \u001b[38;5;28mlen\u001b[39m(df_hotels))\n",
      "\u001b[1;31mAttributeError\u001b[0m: 'dict' object has no attribute 'head'"
     ]
    }
   ],
   "source": [
    "gaia_id, full_name, loc = get_city_gaia_id(\"Nice\", \"France\")  # locale choisie auto\n",
    "df_hotels = hotels_in_city_once_v2(\n",
    "    gaia_id=gaia_id,\n",
    "    domain=\"FR\",\n",
    "    locale=loc,                   # ex: \"fr_FR\"\n",
    "    checkin=\"2025-10-04\",\n",
    "    checkout=\"2025-10-06\",\n",
    "    adults=2,\n",
    "    page_number=1,\n",
    ")\n",
    "\n",
    "print(df_hotels.head(15))\n",
    "print(\"Hôtels (page 1):\", len(df_hotels))\n"
   ]
  },
  {
   "cell_type": "code",
   "execution_count": 42,
   "id": "b51e3464",
   "metadata": {},
   "outputs": [
    {
     "data": {
      "text/plain": [
       "'fr_FR'"
      ]
     },
     "execution_count": 42,
     "metadata": {},
     "output_type": "execute_result"
    }
   ],
   "source": [
    "loc"
   ]
  },
  {
   "cell_type": "code",
   "execution_count": 36,
   "id": "43d51814",
   "metadata": {},
   "outputs": [
    {
     "name": "stdout",
     "output_type": "stream",
     "text": [
      "{'detail': [{'loc': ['query', 'checkin_date'], 'msg': 'the date has already passed', 'type': 'value_error'}, {'loc': ['query', 'checkout_date'], 'msg': 'the date has already passed', 'type': 'value_error'}]}\n"
     ]
    }
   ],
   "source": [
    "import requests\n",
    "\n",
    "url = \"https://hotels-com-provider.p.rapidapi.com/v2/hotels/search\"\n",
    "\n",
    "querystring = {\"amenities\":\"WIFI,PARKING\",\"meal_plan\":\"FREE_BREAKFAST\",\"available_filter\":\"SHOW_AVAILABLE_ONLY\",\"price_min\":\"10\",\"payment_type\":\"PAY_LATER,FREE_CANCELLATION\",\"star_rating_ids\":\"3,4,5\",\"guest_rating_min\":\"8\",\"children_ages\":\"4,0,15\",\"checkin_date\":\"2025-05-26\",\"locale\":\"es_AR\",\"adults_number\":\"1\",\"sort_order\":\"REVIEW\",\"page_number\":\"1\",\"domain\":\"AR\",\"price_max\":\"500\",\"region_id\":\"2872\",\"lodging_type\":\"HOTEL,HOSTEL,APART_HOTEL\",\"checkout_date\":\"2025-05-27\"}\n",
    "\n",
    "headers = {\n",
    "\t\"x-rapidapi-key\": \"fd59fa94d0mshd347bab8295d78fp112088jsnd4f2041c7508\",\n",
    "\t\"x-rapidapi-host\": \"hotels-com-provider.p.rapidapi.com\"\n",
    "}\n",
    "\n",
    "response = requests.get(url, headers=headers, params=querystring)\n",
    "\n",
    "print(response.json())"
   ]
  }
 ],
 "metadata": {
  "kernelspec": {
   "display_name": "Python 3",
   "language": "python",
   "name": "python3"
  },
  "language_info": {
   "codemirror_mode": {
    "name": "ipython",
    "version": 3
   },
   "file_extension": ".py",
   "mimetype": "text/x-python",
   "name": "python",
   "nbconvert_exporter": "python",
   "pygments_lexer": "ipython3",
   "version": "3.13.0"
  }
 },
 "nbformat": 4,
 "nbformat_minor": 5
}
